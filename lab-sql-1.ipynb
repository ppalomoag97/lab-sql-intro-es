{
 "cells": [
  {
   "cell_type": "code",
   "execution_count": null,
   "id": "2b0152b1-2c7c-4105-beb1-43cce69fbf71",
   "metadata": {},
   "outputs": [],
   "source": [
    "//Limitamos 10 registros \n",
    "SELECT\n",
    "  *\n",
    "FROM\n",
    "  IRONHACK_DAPT.IRONHACK_CLASS.REQUESTS\n",
    "LIMIT\n",
    "  10;\n",
    "//Vemos el nombre total de registros\n",
    "SELECT\n",
    "count(*)\n",
    "FROM\n",
    "IRONHACK_DAPT.IRONHACK_CLASS.REQUESTS;\n",
    "\n",
    "//Identificar los Principales Tipos de Quejas\n",
    "SELECT DISTINCT COMPLAINT_TYPE,\n",
    "    COUNT (*) AS COMPLAINT_NUMBER\n",
    "FROM IRONHACK_DAPT.IRONHACK_CLASS.REQUESTS \n",
    "GROUP BY COMPLAINT_TYPE ORDER BY COMPLAINT_NUMBER DESC\n",
    "LIMIT 5;\n",
    "\n",
    "//Analizar Quejas por Distrito\n",
    "\n",
    "SELECT DISTINCT BOROUGH,\n",
    "    COUNT (*) AS COMPLAINT_NUMBER_BOROUGH\n",
    "FROM IRONHACK_DAPT.IRONHACK_CLASS.REQUESTS \n",
    "GROUP BY BOROUGH ORDER BY COMPLAINT_NUMBER_BOROUGH DESC;\n",
    "\n",
    "\n",
    "//Filtrar Tipos de Quejas de Alto Volumen\n",
    "\n",
    "SELECT COMPLAINT_TYPE,\n",
    "COUNT (*) AS COMPLAINT_NUMBER\n",
    "FROM IRONHACK_DAPT.IRONHACK_CLASS.REQUESTS \n",
    "GROUP BY COMPLAINT_TYPE HAVING COMPLAINT_NUMBER>1000 ORDER BY COMPLAINT_NUMBER DESC;\n",
    "\n",
    "//Elige un tipo particular de queja.\n",
    "//Compara el número de dichas quejas en cada distrito.\n",
    "\n",
    "SELECT BOROUGH,\n",
    "COUNT (*) AS COMPLAINT_NUMBER_NOISE\n",
    "FROM IRONHACK_DAPT.IRONHACK_CLASS.REQUESTS \n",
    "WHERE COMPLAINT_TYPE='Noise - Residential'\n",
    "GROUP BY BOROUGH ORDER BY COMPLAINT_NUMBER_NOISE DESC;"
   ]
  }
 ],
 "metadata": {
  "kernelspec": {
   "display_name": "Python 3 (ipykernel)",
   "language": "python",
   "name": "python3"
  },
  "language_info": {
   "codemirror_mode": {
    "name": "ipython",
    "version": 3
   },
   "file_extension": ".py",
   "mimetype": "text/x-python",
   "name": "python",
   "nbconvert_exporter": "python",
   "pygments_lexer": "ipython3",
   "version": "3.10.12"
  }
 },
 "nbformat": 4,
 "nbformat_minor": 5
}
